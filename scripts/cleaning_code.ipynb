{
 "cells": [
  {
   "cell_type": "markdown",
   "id": "0db0e761-0e90-4aa3-a62a-d6ac01bb3f0e",
   "metadata": {},
   "source": [
    "# Liberaries"
   ]
  },
  {
   "cell_type": "code",
   "execution_count": 2,
   "id": "f7a56421-4bd7-48d1-8f93-6a015c83df7c",
   "metadata": {},
   "outputs": [],
   "source": [
    "import glob\n",
    "import pandas as pd\n",
    "import os"
   ]
  },
  {
   "cell_type": "code",
   "execution_count": 3,
   "id": "586ab8da-cfce-4c87-b6a5-e5ac2e3b1eb6",
   "metadata": {},
   "outputs": [],
   "source": [
    "folder_path = r\"D:\\_Computer_Science_\\DEPI\\The Final Project\\data_final\"\n",
    "years_str=range(2019, 2024)"
   ]
  },
  {
   "cell_type": "markdown",
   "id": "d1a02fc1-2fc4-4e64-878f-99a7a6cf0aa3",
   "metadata": {},
   "source": [
    "# Removing Headers"
   ]
  },
  {
   "cell_type": "code",
   "execution_count": 5,
   "id": "1d743f8d-df8d-456c-829c-d8647ff42779",
   "metadata": {},
   "outputs": [],
   "source": [
    "# function to remove the metadata from everyearfile\n",
    "def remove_first_n_lines(file_path, n=18):\n",
    "    lines = []\n",
    "    with open(file_path, \"r\") as f:\n",
    "        lines = f.readlines()[n:]\n",
    "    with open(file_path, \"w\") as f:\n",
    "        f.writelines(lines)"
   ]
  },
  {
   "cell_type": "code",
   "execution_count": 6,
   "id": "6c20d77d-aa04-4675-9395-9eaae0daf6b9",
   "metadata": {},
   "outputs": [],
   "source": [
    "for file_path in glob.glob(f\"{folder_path}/**/*.csv\", recursive=True):\n",
    "    remove_first_n_lines(file_path)"
   ]
  },
  {
   "cell_type": "markdown",
   "id": "759f7aaf-b0a5-4156-8f5a-39cddd01f496",
   "metadata": {},
   "source": [
    "# Removing Nulls"
   ]
  },
  {
   "cell_type": "code",
   "execution_count": 7,
   "id": "89f7373f-d661-4e8a-8400-7318f7888284",
   "metadata": {},
   "outputs": [],
   "source": [
    "def remove_nulls(file_path):\n",
    "    df = pd.read_csv(file_path)\n",
    "    df = df[df.iloc[:, -1] != -999]\n",
    "    df.to_csv(file_path, index=False)"
   ]
  },
  {
   "cell_type": "code",
   "execution_count": 8,
   "id": "743a1c4b-a37d-4333-9fe5-437a43d3e940",
   "metadata": {},
   "outputs": [],
   "source": [
    "#for file_path in glob.glob(f\"{folder_path}/**/*.csv\", recursive=True):\n",
    "    #remove_nulls(file_path)"
   ]
  },
  {
   "cell_type": "markdown",
   "id": "abd323fd-0227-4616-97ba-f61916980c1f",
   "metadata": {},
   "source": [
    "# Rename"
   ]
  },
  {
   "cell_type": "code",
   "execution_count": 9,
   "id": "e74cc59b-e456-4140-8540-71a9458ba71f",
   "metadata": {},
   "outputs": [],
   "source": [
    "def rename_files(path):\n",
    "    for file_path in glob.glob(f\"{path}/*.csv\", recursive=True):\n",
    "        df = pd.read_csv(file_path)\n",
    "        df.to_csv(f\"{path}/{df.columns[-1]}.csv\", index=False)"
   ]
  },
  {
   "cell_type": "code",
   "execution_count": 10,
   "id": "16cc5c6a-c949-4e21-8113-ab330bf4e38a",
   "metadata": {},
   "outputs": [],
   "source": [
    "#for i in years_str:\n",
    "#    for c in community_names:\n",
    "#    rename_files(f\"{folder_path}/{c}/{i}\")"
   ]
  },
  {
   "cell_type": "markdown",
   "id": "284b5fed-ff52-4e57-a0e0-c7f98429243d",
   "metadata": {},
   "source": [
    "# Append"
   ]
  },
  {
   "cell_type": "markdown",
   "id": "7700b6b8-4219-4e75-8bd4-5ff8f888c10d",
   "metadata": {},
   "source": [
    "## append the common in all the years"
   ]
  },
  {
   "cell_type": "code",
   "execution_count": 22,
   "id": "9bdcbd82-e0cd-4018-be28-8be18f34df2a",
   "metadata": {
    "scrolled": true
   },
   "outputs": [
    {
     "name": "stdout",
     "output_type": "stream",
     "text": [
      "['T2M_MAX', 'TS_MAX', 'TS_MIN', 'GWETROOT', 'TSOIL1', 'TS', 'ALLSKY_SFC_UVB', 'WS50M', 'WS2M', 'T2M_MIN', 'GWETTOP', 'TSOIL2', 'CLOUD_AMT', 'WS2M_MAX', 'T10M_MIN', 'WS50M_MIN', 'TSOIL6', 'RH2M', 'PSH', 'WD50M', 'MIDDAY_INSOL', 'TO3', 'AIRMASS', 'PRECTOTCORR', 'WS2M_MIN', 'ALLSKY_SFC_UVA', 'T10M', 'PW', 'CLRSKY_DAYS', 'QV2M', 'T10M_MAX', 'TSOIL5', 'RHOA', 'ALLSKY_SFC_SW_DWN', 'WD2M', 'CLOUD_AMT_DAY', 'EVLAND', 'CLOUD_AMT_NIGHT', 'ALLSKY_SFC_UV_INDEX', 'GWETPROF', 'WS50M_MAX', 'PRECSNO', 'Z0M', 'T2M', 'TSOIL3', 'TSOIL4']\n",
      "46\n"
     ]
    }
   ],
   "source": [
    "cols = []\n",
    "for year in years_str:\n",
    "    year_cols = set()\n",
    "    for file_name in glob.glob(f\"{folder_path}/{year}/*.csv\", root_dir=folder_path, recursive=True):\n",
    "        year_cols.add(file_name.split('\\\\')[-1].split('.')[0])\n",
    "    if len(cols) == 0:\n",
    "        cols = year_cols\n",
    "    else:\n",
    "        cols = cols.intersection(year_cols)\n",
    "cols = list(cols)\n",
    "print(cols)\n",
    "print(len(cols))"
   ]
  },
  {
   "cell_type": "code",
   "execution_count": 23,
   "id": "6406c26c-669f-433d-8494-98795529c711",
   "metadata": {},
   "outputs": [],
   "source": [
    "for col in cols:\n",
    "    dataframes = []\n",
    "    for file_path in glob.glob(f\"{folder_path}/*/{col}.csv\", root_dir=folder_path, recursive=True):\n",
    "        dataframes.append(pd.read_csv(file_path))\n",
    "        os.remove(file_path)\n",
    "    df = pd.concat(dataframes)\n",
    "    df.to_csv(f\"D:/_Computer_Science_/DEPI/The Final Project/appended/{col}.csv\")"
   ]
  },
  {
   "cell_type": "markdown",
   "id": "0580d784-02e4-4008-aac6-ba16161804e4",
   "metadata": {},
   "source": [
    "# Merging files"
   ]
  },
  {
   "cell_type": "markdown",
   "id": "35a4d1b4-52e9-4eec-8b95-b1c3c5d526fb",
   "metadata": {},
   "source": [
    "**Make sure to put all the appended files in the right place before running this**"
   ]
  },
  {
   "cell_type": "code",
   "execution_count": 24,
   "id": "cf403c8c-4117-4a11-a73d-bf469d59391d",
   "metadata": {},
   "outputs": [],
   "source": [
    "def Merge():\n",
    "    df_small=None\n",
    "    df_large=None\n",
    "    for cur_file in glob.glob(f\"{folder_path}/*.csv\"):\n",
    "        test=pd.read_csv(cur_file).reset_index(drop=True)\n",
    "        \n",
    "        if df_small is None and (len(test)==200860):\n",
    "            df_small=test\n",
    "        elif df_large is None and (len(test)==613536):\n",
    "            df_large =test\n",
    "        else :\n",
    "            if df_small is not None and (len(test) == 200860):\n",
    "                df_small = pd.merge(df_small, test, how='outer').reset_index(drop=True)\n",
    "            elif df_large is not None and (len(test) == 613536):\n",
    "                df_large = pd.merge(df_large, test, how='outer').reset_index(drop=True)\n",
    "    \n",
    "    if df_small is not None:\n",
    "        df_small.to_csv(f\"D:/_Computer_Science_/DEPI/The Final Project/merged/df_small.csv\", index=False)\n",
    "    if df_large is not None:\n",
    "        df_large.to_csv(f\"D:/_Computer_Science_/DEPI/The Final Project/merged/df_large.csv\", index=False)\n"
   ]
  },
  {
   "cell_type": "code",
   "execution_count": 25,
   "id": "d6ec0397-41b7-42da-9e8b-79e89127076b",
   "metadata": {
    "scrolled": true
   },
   "outputs": [],
   "source": [
    "Merge()"
   ]
  },
  {
   "cell_type": "code",
   "execution_count": null,
   "id": "50349f10-2cf2-4ad0-b635-6ff5ef39138f",
   "metadata": {},
   "outputs": [],
   "source": []
  }
 ],
 "metadata": {
  "kernelspec": {
   "display_name": "Python 3 (ipykernel)",
   "language": "python",
   "name": "python3"
  },
  "language_info": {
   "codemirror_mode": {
    "name": "ipython",
    "version": 3
   },
   "file_extension": ".py",
   "mimetype": "text/x-python",
   "name": "python",
   "nbconvert_exporter": "python",
   "pygments_lexer": "ipython3",
   "version": "3.12.5"
  }
 },
 "nbformat": 4,
 "nbformat_minor": 5
}
