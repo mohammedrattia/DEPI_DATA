{
 "cells": [
  {
   "cell_type": "markdown",
   "id": "0db0e761-0e90-4aa3-a62a-d6ac01bb3f0e",
   "metadata": {},
   "source": [
    "# Liberaries"
   ]
  },
  {
   "cell_type": "code",
   "execution_count": 59,
   "id": "f7a56421-4bd7-48d1-8f93-6a015c83df7c",
   "metadata": {},
   "outputs": [],
   "source": [
    "import glob\n",
    "import pandas as pd\n",
    "import os"
   ]
  },
  {
   "cell_type": "code",
   "execution_count": 60,
   "id": "586ab8da-cfce-4c87-b6a5-e5ac2e3b1eb6",
   "metadata": {},
   "outputs": [],
   "source": [
    "folder_path = r\"D:\\_Computer_Science_\\DEPI\\The Final Project\"\n",
    "years_str=range(2019, 2024)"
   ]
  },
  {
   "cell_type": "markdown",
   "id": "d1a02fc1-2fc4-4e64-878f-99a7a6cf0aa3",
   "metadata": {},
   "source": [
    "# Removing Headers"
   ]
  },
  {
   "cell_type": "code",
   "execution_count": 61,
   "id": "1d743f8d-df8d-456c-829c-d8647ff42779",
   "metadata": {},
   "outputs": [],
   "source": [
    "# function to remove the metadata from everyearfile\n",
    "def remove_first_n_lines(file_path, n=18):\n",
    "    lines = []\n",
    "    with open(file_path, \"r\") as f:\n",
    "        lines = f.readlines()[n:]\n",
    "    with open(file_path, \"w\") as f:\n",
    "        f.writelines(lines)"
   ]
  },
  {
   "cell_type": "code",
   "execution_count": 62,
   "id": "6c20d77d-aa04-4675-9395-9eaae0daf6b9",
   "metadata": {},
   "outputs": [],
   "source": [
    "for file_path in glob.glob(f\"{folder_path}/data_monthly_original/**/*.csv\", recursive=True):\n",
    "    remove_first_n_lines(file_path)"
   ]
  },
  {
   "cell_type": "markdown",
   "id": "284b5fed-ff52-4e57-a0e0-c7f98429243d",
   "metadata": {},
   "source": [
    "# Append"
   ]
  },
  {
   "cell_type": "markdown",
   "id": "7700b6b8-4219-4e75-8bd4-5ff8f888c10d",
   "metadata": {},
   "source": [
    "## append the common in all the years"
   ]
  },
  {
   "cell_type": "code",
   "execution_count": 63,
   "id": "9bdcbd82-e0cd-4018-be28-8be18f34df2a",
   "metadata": {
    "scrolled": true
   },
   "outputs": [
    {
     "name": "stdout",
     "output_type": "stream",
     "text": [
      "['ALLSKY_SFC_SW_DWN', 'ALLSKY_SFC_UV_INDEX', 'PW', 'GWETPROF', 'WS50M', 'T2M', 'ALLSKY_SFC_UVA', 'Z0M', 'WD50M', 'TS_MAX', 'T10M_MAX', 'T2M_MAX', 'TSOIL2', 'EVLAND', 'TO3', 'CLRSKY_DAYS', 'WS2M_MAX', 'GWETTOP', 'TSOIL6', 'TSOIL3', 'T10M_MIN', 'RHOA', 'WS2M_MIN', 'WD2M', 'WS50M_MIN', 'RH2M', 'CLOUD_AMT', 'CLOUD_AMT_NIGHT', 'PRECSNO', 'WS2M', 'PRECTOTCORR', 'MIDDAY_INSOL', 'TS', 'TSOIL5', 'GWETROOT', 'QV2M', 'TSOIL4', 'T2M_MIN', 'CLOUD_AMT_DAY', 'TS_MIN', 'WS50M_MAX', 'AIRMASS', 'PSH', 'TSOIL1', 'ALLSKY_SFC_UVB', 'T10M']\n",
      "46\n"
     ]
    }
   ],
   "source": [
    "cols = set()\n",
    "for file_name in glob.glob(f\"{folder_path}/data_monthly_original/*/*.csv\", root_dir=folder_path, recursive=True):\n",
    "    cols.add(file_name.split('\\\\')[-1].split('.')[0])\n",
    "cols = list(cols)\n",
    "print(cols)\n",
    "print(len(cols))"
   ]
  },
  {
   "cell_type": "code",
   "execution_count": 64,
   "id": "6406c26c-669f-433d-8494-98795529c711",
   "metadata": {},
   "outputs": [],
   "source": [
    "for col in cols:\n",
    "    dataframes = []\n",
    "    for file_path in glob.glob(f\"{folder_path}/data_monthly_original/*/{col}.csv\", root_dir=folder_path, recursive=True):\n",
    "        dataframes.append(pd.read_csv(file_path))\n",
    "    df = pd.concat(dataframes)\n",
    "    df.to_csv(f\"{folder_path}/data_monthly_appended/{col}.csv\", index=False)"
   ]
  },
  {
   "cell_type": "markdown",
   "id": "b543c179-6ce5-4679-a89e-58cd6d10ecb0",
   "metadata": {},
   "source": [
    "# Melt"
   ]
  },
  {
   "cell_type": "code",
   "execution_count": 66,
   "id": "719a189d-c1e0-4b83-8e15-7c125c9e77bd",
   "metadata": {},
   "outputs": [],
   "source": [
    "for file_name in glob.glob(f\"{folder_path}/data_monthly_appended/*.csv\", root_dir=folder_path, recursive=True):\n",
    "    df = pd.read_csv(file_name)\n",
    "    col = df['PARAMETER'][0]\n",
    "    df = pd.melt(df.drop(['PARAMETER', 'ANN'], axis=1), id_vars=['YEAR', 'LAT', 'LON'],\n",
    "                 value_vars=['JAN', 'FEB', 'MAR', 'APR', 'MAY', 'JUN', 'JUL', 'AUG', 'SEP', 'OCT', 'NOV', 'DEC'],\n",
    "                 var_name='MONTH', value_name=col)\n",
    "    df.to_csv(f\"{folder_path}/data_monthly_melt/{col}.csv\", index=False)"
   ]
  },
  {
   "cell_type": "markdown",
   "id": "0580d784-02e4-4008-aac6-ba16161804e4",
   "metadata": {},
   "source": [
    "# Merging files"
   ]
  },
  {
   "cell_type": "code",
   "execution_count": 71,
   "id": "cf403c8c-4117-4a11-a73d-bf469d59391d",
   "metadata": {},
   "outputs": [],
   "source": [
    "def Merge():\n",
    "    df_small=None\n",
    "    df_large=None\n",
    "    for cur_file in glob.glob(f\"{folder_path}/data_monthly_melt/*.csv\"):\n",
    "        test=pd.read_csv(cur_file).reset_index(drop=True)\n",
    "        \n",
    "        if df_small is None and (len(test)==33672):\n",
    "            df_small=test\n",
    "        elif df_large is None and (len(test)==151776):\n",
    "            df_large=test\n",
    "        else :\n",
    "            if df_small is not None and (len(test)==33672):\n",
    "                df_small = pd.merge(df_small, test, on=['YEAR', 'LAT', 'LON', 'MONTH'], how='outer').reset_index(drop=True)\n",
    "            elif df_large is not None and (len(test)==151776):\n",
    "                df_large = pd.merge(df_large, test, on=['YEAR', 'LAT', 'LON', 'MONTH'], how='outer').reset_index(drop=True)\n",
    "\n",
    "    if df_small is not None:\n",
    "        df_small.drop_duplicates().to_csv(f\"{folder_path}/data_monthly_merged/df_small.csv\", index=False)\n",
    "    if df_large is not None:\n",
    "        df_large.drop_duplicates().to_csv(f\"{folder_path}/data_monthly_merged/df_large.csv\", index=False)\n"
   ]
  },
  {
   "cell_type": "code",
   "execution_count": 72,
   "id": "d6ec0397-41b7-42da-9e8b-79e89127076b",
   "metadata": {
    "scrolled": true
   },
   "outputs": [],
   "source": [
    "Merge()"
   ]
  },
  {
   "cell_type": "code",
   "execution_count": null,
   "id": "67989506-a400-4399-a405-5d7151dd49c4",
   "metadata": {},
   "outputs": [],
   "source": []
  }
 ],
 "metadata": {
  "kernelspec": {
   "display_name": "Python 3 (ipykernel)",
   "language": "python",
   "name": "python3"
  },
  "language_info": {
   "codemirror_mode": {
    "name": "ipython",
    "version": 3
   },
   "file_extension": ".py",
   "mimetype": "text/x-python",
   "name": "python",
   "nbconvert_exporter": "python",
   "pygments_lexer": "ipython3",
   "version": "3.12.5"
  }
 },
 "nbformat": 4,
 "nbformat_minor": 5
}
